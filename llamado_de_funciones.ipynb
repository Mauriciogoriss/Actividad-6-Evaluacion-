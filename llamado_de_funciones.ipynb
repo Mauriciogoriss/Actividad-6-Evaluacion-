{
 "cells": [
  {
   "cell_type": "code",
   "execution_count": 26,
   "metadata": {},
   "outputs": [],
   "source": [
    "import pandas as pd\n",
    "import funciones as dp"
   ]
  },
  {
   "cell_type": "code",
   "execution_count": 25,
   "metadata": {},
   "outputs": [
    {
     "ename": "AttributeError",
     "evalue": "module 'funciones' has no attribute 'carga_de_archivo'",
     "output_type": "error",
     "traceback": [
      "\u001b[1;31m---------------------------------------------------------------------------\u001b[0m",
      "\u001b[1;31mAttributeError\u001b[0m                            Traceback (most recent call last)",
      "Cell \u001b[1;32mIn[25], line 3\u001b[0m\n\u001b[0;32m      1\u001b[0m \u001b[38;5;66;03m# Llamamos funcion 1: Carga el archivo CSV o xlsx\u001b[39;00m\n\u001b[0;32m      2\u001b[0m file_path \u001b[38;5;241m=\u001b[39m \u001b[38;5;124m\"\u001b[39m\u001b[38;5;124msandiego_estadosunidos.csv\u001b[39m\u001b[38;5;124m\"\u001b[39m  \n\u001b[1;32m----> 3\u001b[0m df \u001b[38;5;241m=\u001b[39m \u001b[43mdp\u001b[49m\u001b[38;5;241;43m.\u001b[39;49m\u001b[43mcarga_de_archivo\u001b[49m(file_path)\n\u001b[0;32m      4\u001b[0m df\n",
      "\u001b[1;31mAttributeError\u001b[0m: module 'funciones' has no attribute 'carga_de_archivo'"
     ]
    }
   ],
   "source": [
    "# Llamamos funcion 1: Carga el archivo CSV o xlsx\n",
    "file_path = \"sandiego_estadosunidos.csv\"  \n",
    "df = dp.carga_de_archivo(file_path)\n",
    "df"
   ]
  },
  {
   "cell_type": "code",
   "execution_count": null,
   "metadata": {},
   "outputs": [
    {
     "name": "stderr",
     "output_type": "stream",
     "text": [
      "c:\\Users\\Maugo\\OneDrive\\Documentos\\Analisis de datos y herramientas de inteligencia artificial\\Alfredo Garcia\\Tareas\\funciones.py:26: FutureWarning: A value is trying to be set on a copy of a DataFrame or Series through chained assignment using an inplace method.\n",
      "The behavior will change in pandas 3.0. This inplace method will never work because the intermediate object on which we are setting values always behaves as a copy.\n",
      "\n",
      "For example, when doing 'df[col].method(value, inplace=True)', try using 'df.method({col: value}, inplace=True)' or df[col] = df[col].method(value) instead, to perform the operation inplace on the original object.\n",
      "\n",
      "\n",
      "  df[col].fillna(df[col].mean(), inplace=True)\n",
      "c:\\Users\\Maugo\\OneDrive\\Documentos\\Analisis de datos y herramientas de inteligencia artificial\\Alfredo Garcia\\Tareas\\funciones.py:28: FutureWarning: A value is trying to be set on a copy of a DataFrame or Series through chained assignment using an inplace method.\n",
      "The behavior will change in pandas 3.0. This inplace method will never work because the intermediate object on which we are setting values always behaves as a copy.\n",
      "\n",
      "For example, when doing 'df[col].method(value, inplace=True)', try using 'df.method({col: value}, inplace=True)' or df[col] = df[col].method(value) instead, to perform the operation inplace on the original object.\n",
      "\n",
      "\n",
      "  df[col].fillna(99, inplace=True)\n",
      "c:\\Users\\Maugo\\OneDrive\\Documentos\\Analisis de datos y herramientas de inteligencia artificial\\Alfredo Garcia\\Tareas\\funciones.py:30: FutureWarning: A value is trying to be set on a copy of a DataFrame or Series through chained assignment using an inplace method.\n",
      "The behavior will change in pandas 3.0. This inplace method will never work because the intermediate object on which we are setting values always behaves as a copy.\n",
      "\n",
      "For example, when doing 'df[col].method(value, inplace=True)', try using 'df.method({col: value}, inplace=True)' or df[col] = df[col].method(value) instead, to perform the operation inplace on the original object.\n",
      "\n",
      "\n",
      "  df[col].fillna(\"Este_es_un_valor_nulo\", inplace=True)\n"
     ]
    },
    {
     "data": {
      "text/plain": [
       "id                                             0\n",
       "host_id                                        0\n",
       "listing_url                                    0\n",
       "last_scraped                                   0\n",
       "host_since                                     0\n",
       "first_review                                   0\n",
       "last_review                                    0\n",
       "host_name                                      0\n",
       "host_response_time                             0\n",
       "host_response_rate                             0\n",
       "host_acceptance_rate                           0\n",
       "host_is_superhost                              0\n",
       "host_total_listings_count                      0\n",
       "host_has_profile_pic                           0\n",
       "host_identity_verified                         0\n",
       "neighbourhood_cleansed                         0\n",
       "latitude                                       0\n",
       "longitude                                      0\n",
       "property_type                                  0\n",
       "room_type                                      0\n",
       "accommodates                                   0\n",
       "bathrooms_text                                 0\n",
       "bedrooms                                       0\n",
       "beds                                           0\n",
       "amenities                                      0\n",
       "has_availability                               0\n",
       "instant_bookable                               0\n",
       "price                                          0\n",
       "minimum_nights                                 0\n",
       "maximum_nights                                 0\n",
       "minimum_nights_avg_ntm                         0\n",
       "maximum_nights_avg_ntm                         0\n",
       "availability_30                                0\n",
       "availability_365                               0\n",
       "number_of_reviews                              0\n",
       "number_of_reviews_ltm                          0\n",
       "number_of_reviews_l30d                         0\n",
       "review_scores_rating                           0\n",
       "review_scores_accuracy                         0\n",
       "review_scores_cleanliness                      0\n",
       "review_scores_checkin                          0\n",
       "review_scores_communication                    0\n",
       "review_scores_location                         0\n",
       "review_scores_value                            0\n",
       "license                                        0\n",
       "calendar_updated                               0\n",
       "calculated_host_listings_count_shared_rooms    0\n",
       "host_location                                  0\n",
       "source                                         0\n",
       "neighbourhood_group_cleansed                   0\n",
       "dtype: int64"
      ]
     },
     "execution_count": 19,
     "metadata": {},
     "output_type": "execute_result"
    }
   ],
   "source": [
    "# Llamamos funcion 2: Sustituir valores nulos\n",
    "df = dp.sustitucion_valores_nulos(df)\n",
    "df.isnull().sum()\n"
   ]
  },
  {
   "cell_type": "code",
   "execution_count": 20,
   "metadata": {},
   "outputs": [
    {
     "data": {
      "text/plain": [
       "{'nulos_por_columna': {'id': 0,\n",
       "  'host_id': 0,\n",
       "  'listing_url': 0,\n",
       "  'last_scraped': 0,\n",
       "  'host_since': 0,\n",
       "  'first_review': 0,\n",
       "  'last_review': 0,\n",
       "  'host_name': 0,\n",
       "  'host_response_time': 0,\n",
       "  'host_response_rate': 0,\n",
       "  'host_acceptance_rate': 0,\n",
       "  'host_is_superhost': 0,\n",
       "  'host_total_listings_count': 0,\n",
       "  'host_has_profile_pic': 0,\n",
       "  'host_identity_verified': 0,\n",
       "  'neighbourhood_cleansed': 0,\n",
       "  'latitude': 0,\n",
       "  'longitude': 0,\n",
       "  'property_type': 0,\n",
       "  'room_type': 0,\n",
       "  'accommodates': 0,\n",
       "  'bathrooms_text': 0,\n",
       "  'bedrooms': 0,\n",
       "  'beds': 0,\n",
       "  'amenities': 0,\n",
       "  'has_availability': 0,\n",
       "  'instant_bookable': 0,\n",
       "  'price': 0,\n",
       "  'minimum_nights': 0,\n",
       "  'maximum_nights': 0,\n",
       "  'minimum_nights_avg_ntm': 0,\n",
       "  'maximum_nights_avg_ntm': 0,\n",
       "  'availability_30': 0,\n",
       "  'availability_365': 0,\n",
       "  'number_of_reviews': 0,\n",
       "  'number_of_reviews_ltm': 0,\n",
       "  'number_of_reviews_l30d': 0,\n",
       "  'review_scores_rating': 0,\n",
       "  'review_scores_accuracy': 0,\n",
       "  'review_scores_cleanliness': 0,\n",
       "  'review_scores_checkin': 0,\n",
       "  'review_scores_communication': 0,\n",
       "  'review_scores_location': 0,\n",
       "  'review_scores_value': 0,\n",
       "  'license': 0,\n",
       "  'calendar_updated': 0,\n",
       "  'calculated_host_listings_count_shared_rooms': 0,\n",
       "  'host_location': 0,\n",
       "  'source': 0,\n",
       "  'neighbourhood_group_cleansed': 0},\n",
       " 'total_nulos': np.int64(0)}"
      ]
     },
     "execution_count": 20,
     "metadata": {},
     "output_type": "execute_result"
    }
   ],
   "source": [
    "#Llamamos funcion 3: identificar valores nulos\n",
    "nulos_info = dp.identificar_valores_nulos(df)\n",
    "nulos_info\n",
    "\n"
   ]
  },
  {
   "cell_type": "code",
   "execution_count": 23,
   "metadata": {},
   "outputs": [
    {
     "ename": "AttributeError",
     "evalue": "module 'funciones' has no attribute 'sustitucion_valores_atipicos'",
     "output_type": "error",
     "traceback": [
      "\u001b[1;31m---------------------------------------------------------------------------\u001b[0m",
      "\u001b[1;31mAttributeError\u001b[0m                            Traceback (most recent call last)",
      "Cell \u001b[1;32mIn[23], line 2\u001b[0m\n\u001b[0;32m      1\u001b[0m \u001b[38;5;66;03m#Llamamos funcion 4\u001b[39;00m\n\u001b[1;32m----> 2\u001b[0m df \u001b[38;5;241m=\u001b[39m \u001b[43mdp\u001b[49m\u001b[38;5;241;43m.\u001b[39;49m\u001b[43msustitucion_valores_atipicos\u001b[49m(df)\n\u001b[0;32m      3\u001b[0m df\n",
      "\u001b[1;31mAttributeError\u001b[0m: module 'funciones' has no attribute 'sustitucion_valores_atipicos'"
     ]
    }
   ],
   "source": [
    "#Llamamos funcion 4\n",
    "df = dp.sustitucion_valores_atipicos(df)\n",
    "df"
   ]
  },
  {
   "cell_type": "code",
   "execution_count": 22,
   "metadata": {},
   "outputs": [],
   "source": [
    "df.to_csv(\"sandiego_estadosunidosfinal.csv\", index=False)"
   ]
  }
 ],
 "metadata": {
  "kernelspec": {
   "display_name": "Python 3",
   "language": "python",
   "name": "python3"
  },
  "language_info": {
   "codemirror_mode": {
    "name": "ipython",
    "version": 3
   },
   "file_extension": ".py",
   "mimetype": "text/x-python",
   "name": "python",
   "nbconvert_exporter": "python",
   "pygments_lexer": "ipython3",
   "version": "3.13.2"
  }
 },
 "nbformat": 4,
 "nbformat_minor": 2
}
